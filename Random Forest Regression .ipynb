{
 "cells": [
  {
   "cell_type": "code",
   "execution_count": 1,
   "metadata": {},
   "outputs": [],
   "source": [
    "import pandas as pd\n",
    "import numpy as np\n",
    "import seaborn as sns\n",
    "import matplotlib.pyplot as plt\n",
    "import warnings\n",
    "warnings.filterwarnings('ignore')\n"
   ]
  },
  {
   "cell_type": "code",
   "execution_count": 2,
   "metadata": {},
   "outputs": [
    {
     "data": {
      "text/html": [
       "<div>\n",
       "<style scoped>\n",
       "    .dataframe tbody tr th:only-of-type {\n",
       "        vertical-align: middle;\n",
       "    }\n",
       "\n",
       "    .dataframe tbody tr th {\n",
       "        vertical-align: top;\n",
       "    }\n",
       "\n",
       "    .dataframe thead th {\n",
       "        text-align: right;\n",
       "    }\n",
       "</style>\n",
       "<table border=\"1\" class=\"dataframe\">\n",
       "  <thead>\n",
       "    <tr style=\"text-align: right;\">\n",
       "      <th></th>\n",
       "      <th>Gross Load</th>\n",
       "      <th>Total coal flow  (T/hr)</th>\n",
       "      <th>Feed water flow rate</th>\n",
       "      <th>Total PA flow</th>\n",
       "      <th>Total Air flow</th>\n",
       "      <th>Total  Secondary air flow</th>\n",
       "      <th>SADC damper position</th>\n",
       "      <th>secondary air outlet pressure</th>\n",
       "      <th>PA temp at mill inlet</th>\n",
       "      <th>secondary air temp at windbox</th>\n",
       "      <th>...</th>\n",
       "      <th>secondary air temp APH B outlet</th>\n",
       "      <th>Flue gas temp APH A inlet</th>\n",
       "      <th>Flue gas temp APH A outlet</th>\n",
       "      <th>Flue gas temp APH B inlet</th>\n",
       "      <th>Flue gas temp APH B outlet</th>\n",
       "      <th>Calorific value of fuel (kJ/kg)</th>\n",
       "      <th>Unburnt carbon in Bottom Ash (%)</th>\n",
       "      <th>Unburnt carbon in Fly Ash (%)</th>\n",
       "      <th>Excess air</th>\n",
       "      <th>Total Efficiency BR+BX</th>\n",
       "    </tr>\n",
       "  </thead>\n",
       "  <tbody>\n",
       "    <tr>\n",
       "      <th>0</th>\n",
       "      <td>210.9370</td>\n",
       "      <td>134.0827</td>\n",
       "      <td>668.7497</td>\n",
       "      <td>269.0101</td>\n",
       "      <td>697.5522</td>\n",
       "      <td>426.8821</td>\n",
       "      <td>39.3576</td>\n",
       "      <td>211.5545</td>\n",
       "      <td>233.8708</td>\n",
       "      <td>265.3836</td>\n",
       "      <td>...</td>\n",
       "      <td>253.5637</td>\n",
       "      <td>319.5526</td>\n",
       "      <td>139.3246</td>\n",
       "      <td>337.6624</td>\n",
       "      <td>141.9017</td>\n",
       "      <td>14864.486</td>\n",
       "      <td>5.0</td>\n",
       "      <td>1.82</td>\n",
       "      <td>14.084863</td>\n",
       "      <td>69.815341</td>\n",
       "    </tr>\n",
       "    <tr>\n",
       "      <th>1</th>\n",
       "      <td>206.1874</td>\n",
       "      <td>135.2202</td>\n",
       "      <td>661.3517</td>\n",
       "      <td>274.6753</td>\n",
       "      <td>692.8755</td>\n",
       "      <td>419.3383</td>\n",
       "      <td>33.4414</td>\n",
       "      <td>203.7725</td>\n",
       "      <td>235.9359</td>\n",
       "      <td>267.4223</td>\n",
       "      <td>...</td>\n",
       "      <td>256.6135</td>\n",
       "      <td>319.3768</td>\n",
       "      <td>139.3246</td>\n",
       "      <td>337.6624</td>\n",
       "      <td>141.9017</td>\n",
       "      <td>14864.486</td>\n",
       "      <td>5.0</td>\n",
       "      <td>1.82</td>\n",
       "      <td>17.514731</td>\n",
       "      <td>68.381356</td>\n",
       "    </tr>\n",
       "    <tr>\n",
       "      <th>2</th>\n",
       "      <td>148.7090</td>\n",
       "      <td>102.6820</td>\n",
       "      <td>508.4293</td>\n",
       "      <td>263.3038</td>\n",
       "      <td>629.5214</td>\n",
       "      <td>365.8234</td>\n",
       "      <td>18.1024</td>\n",
       "      <td>170.1691</td>\n",
       "      <td>207.4389</td>\n",
       "      <td>258.2560</td>\n",
       "      <td>...</td>\n",
       "      <td>244.4071</td>\n",
       "      <td>304.6339</td>\n",
       "      <td>133.2103</td>\n",
       "      <td>321.8367</td>\n",
       "      <td>135.8546</td>\n",
       "      <td>14864.486</td>\n",
       "      <td>5.0</td>\n",
       "      <td>1.82</td>\n",
       "      <td>37.334340</td>\n",
       "      <td>66.648272</td>\n",
       "    </tr>\n",
       "    <tr>\n",
       "      <th>3</th>\n",
       "      <td>149.9336</td>\n",
       "      <td>103.7501</td>\n",
       "      <td>503.1259</td>\n",
       "      <td>265.7200</td>\n",
       "      <td>631.5493</td>\n",
       "      <td>368.5298</td>\n",
       "      <td>17.0714</td>\n",
       "      <td>171.8632</td>\n",
       "      <td>207.5121</td>\n",
       "      <td>257.2514</td>\n",
       "      <td>...</td>\n",
       "      <td>244.4071</td>\n",
       "      <td>304.6339</td>\n",
       "      <td>132.2103</td>\n",
       "      <td>322.8464</td>\n",
       "      <td>134.8537</td>\n",
       "      <td>14864.486</td>\n",
       "      <td>5.0</td>\n",
       "      <td>1.82</td>\n",
       "      <td>37.334340</td>\n",
       "      <td>66.322073</td>\n",
       "    </tr>\n",
       "    <tr>\n",
       "      <th>4</th>\n",
       "      <td>148.1824</td>\n",
       "      <td>104.9364</td>\n",
       "      <td>508.2944</td>\n",
       "      <td>270.8655</td>\n",
       "      <td>629.2057</td>\n",
       "      <td>358.6974</td>\n",
       "      <td>13.5494</td>\n",
       "      <td>168.5206</td>\n",
       "      <td>221.4354</td>\n",
       "      <td>256.2358</td>\n",
       "      <td>...</td>\n",
       "      <td>242.3976</td>\n",
       "      <td>304.6339</td>\n",
       "      <td>128.0707</td>\n",
       "      <td>324.8652</td>\n",
       "      <td>130.7463</td>\n",
       "      <td>14864.486</td>\n",
       "      <td>5.0</td>\n",
       "      <td>1.82</td>\n",
       "      <td>37.334340</td>\n",
       "      <td>64.763897</td>\n",
       "    </tr>\n",
       "  </tbody>\n",
       "</table>\n",
       "<p>5 rows × 48 columns</p>\n",
       "</div>"
      ],
      "text/plain": [
       "   Gross Load  Total coal flow  (T/hr)  Feed water flow rate  Total PA flow  \\\n",
       "0    210.9370                 134.0827              668.7497       269.0101   \n",
       "1    206.1874                 135.2202              661.3517       274.6753   \n",
       "2    148.7090                 102.6820              508.4293       263.3038   \n",
       "3    149.9336                 103.7501              503.1259       265.7200   \n",
       "4    148.1824                 104.9364              508.2944       270.8655   \n",
       "\n",
       "   Total Air flow  Total  Secondary air flow  SADC damper position  \\\n",
       "0        697.5522                   426.8821               39.3576   \n",
       "1        692.8755                   419.3383               33.4414   \n",
       "2        629.5214                   365.8234               18.1024   \n",
       "3        631.5493                   368.5298               17.0714   \n",
       "4        629.2057                   358.6974               13.5494   \n",
       "\n",
       "   secondary air outlet pressure  PA temp at mill inlet  \\\n",
       "0                       211.5545               233.8708   \n",
       "1                       203.7725               235.9359   \n",
       "2                       170.1691               207.4389   \n",
       "3                       171.8632               207.5121   \n",
       "4                       168.5206               221.4354   \n",
       "\n",
       "   secondary air temp at windbox  ...  secondary air temp APH B outlet  \\\n",
       "0                       265.3836  ...                         253.5637   \n",
       "1                       267.4223  ...                         256.6135   \n",
       "2                       258.2560  ...                         244.4071   \n",
       "3                       257.2514  ...                         244.4071   \n",
       "4                       256.2358  ...                         242.3976   \n",
       "\n",
       "   Flue gas temp APH A inlet  Flue gas temp APH A outlet  \\\n",
       "0                   319.5526                    139.3246   \n",
       "1                   319.3768                    139.3246   \n",
       "2                   304.6339                    133.2103   \n",
       "3                   304.6339                    132.2103   \n",
       "4                   304.6339                    128.0707   \n",
       "\n",
       "   Flue gas temp APH B inlet  Flue gas temp APH B outlet  \\\n",
       "0                   337.6624                    141.9017   \n",
       "1                   337.6624                    141.9017   \n",
       "2                   321.8367                    135.8546   \n",
       "3                   322.8464                    134.8537   \n",
       "4                   324.8652                    130.7463   \n",
       "\n",
       "   Calorific value of fuel (kJ/kg)  Unburnt carbon in Bottom Ash (%)  \\\n",
       "0                        14864.486                               5.0   \n",
       "1                        14864.486                               5.0   \n",
       "2                        14864.486                               5.0   \n",
       "3                        14864.486                               5.0   \n",
       "4                        14864.486                               5.0   \n",
       "\n",
       "   Unburnt carbon in Fly Ash (%)  Excess air  Total Efficiency BR+BX  \n",
       "0                           1.82   14.084863               69.815341  \n",
       "1                           1.82   17.514731               68.381356  \n",
       "2                           1.82   37.334340               66.648272  \n",
       "3                           1.82   37.334340               66.322073  \n",
       "4                           1.82   37.334340               64.763897  \n",
       "\n",
       "[5 rows x 48 columns]"
      ]
     },
     "execution_count": 2,
     "metadata": {},
     "output_type": "execute_result"
    }
   ],
   "source": [
    "data=pd.read_excel(\"for feature selection May 19.xlsx\")\n",
    "data.head()"
   ]
  },
  {
   "cell_type": "code",
   "execution_count": 3,
   "metadata": {},
   "outputs": [
    {
     "data": {
      "text/plain": [
       "(1953, 48)"
      ]
     },
     "execution_count": 3,
     "metadata": {},
     "output_type": "execute_result"
    }
   ],
   "source": [
    "data.shape"
   ]
  },
  {
   "cell_type": "code",
   "execution_count": 4,
   "metadata": {},
   "outputs": [
    {
     "data": {
      "text/plain": [
       "(1953, 48)"
      ]
     },
     "execution_count": 4,
     "metadata": {},
     "output_type": "execute_result"
    }
   ],
   "source": [
    "data=data.drop_duplicates()\n",
    "data.shape"
   ]
  },
  {
   "cell_type": "code",
   "execution_count": 5,
   "metadata": {},
   "outputs": [
    {
     "data": {
      "text/html": [
       "<div>\n",
       "<style scoped>\n",
       "    .dataframe tbody tr th:only-of-type {\n",
       "        vertical-align: middle;\n",
       "    }\n",
       "\n",
       "    .dataframe tbody tr th {\n",
       "        vertical-align: top;\n",
       "    }\n",
       "\n",
       "    .dataframe thead th {\n",
       "        text-align: right;\n",
       "    }\n",
       "</style>\n",
       "<table border=\"1\" class=\"dataframe\">\n",
       "  <thead>\n",
       "    <tr style=\"text-align: right;\">\n",
       "      <th></th>\n",
       "      <th>Missing Value Pct</th>\n",
       "      <th>Counts</th>\n",
       "    </tr>\n",
       "  </thead>\n",
       "  <tbody>\n",
       "  </tbody>\n",
       "</table>\n",
       "</div>"
      ],
      "text/plain": [
       "Empty DataFrame\n",
       "Columns: [Missing Value Pct, Counts]\n",
       "Index: []"
      ]
     },
     "execution_count": 5,
     "metadata": {},
     "output_type": "execute_result"
    }
   ],
   "source": [
    "# Checking % of missing values in each column #\n",
    "def missing_valu_pct(df):\n",
    "    counts = df.isnull().sum()/df.shape[0]*100\n",
    "    miss_df = pd.DataFrame({'Missing Value Pct':counts.index,'Counts':counts})\n",
    "    return miss_df[miss_df.Counts>0]\n",
    "\n",
    "missing_df=missing_valu_pct(data)\n",
    "missing_df.sort_values(\"Counts\",ascending=False)"
   ]
  },
  {
   "cell_type": "code",
   "execution_count": 6,
   "metadata": {},
   "outputs": [
    {
     "name": "stdout",
     "output_type": "stream",
     "text": [
      "2\n"
     ]
    },
    {
     "data": {
      "text/plain": [
       "['Condenser vacuum', 'Unburnt carbon in Fly Ash (%)']"
      ]
     },
     "execution_count": 6,
     "metadata": {},
     "output_type": "execute_result"
    }
   ],
   "source": [
    "############### Remove the zero variance feature ##############\n",
    "from sklearn.feature_selection import VarianceThreshold\n",
    "threshold_n=0.95\n",
    "sel = VarianceThreshold(threshold=(threshold_n* (1 - threshold_n) ))\n",
    "sel_var=sel.fit_transform(data)\n",
    "constant_columns = [column for column in data.columns\n",
    "                    if column not in data.columns[sel.get_support()]]\n",
    "print(len(constant_columns))\n",
    "constant_columns"
   ]
  },
  {
   "cell_type": "code",
   "execution_count": 7,
   "metadata": {},
   "outputs": [],
   "source": [
    "data.drop(constant_columns,axis=1,inplace=True)"
   ]
  },
  {
   "cell_type": "code",
   "execution_count": 8,
   "metadata": {},
   "outputs": [
    {
     "data": {
      "text/plain": [
       "(1953, 46)"
      ]
     },
     "execution_count": 8,
     "metadata": {},
     "output_type": "execute_result"
    }
   ],
   "source": [
    "data.shape"
   ]
  },
  {
   "cell_type": "code",
   "execution_count": 9,
   "metadata": {},
   "outputs": [
    {
     "data": {
      "text/plain": [
       "(1836, 46)"
      ]
     },
     "execution_count": 9,
     "metadata": {},
     "output_type": "execute_result"
    }
   ],
   "source": [
    "#Removing Outliers >3 standard deviations using Zscore\n",
    "from scipy import stats\n",
    "idx = np.all(stats.zscore(data) <= 3, axis=1)\n",
    "data_cleaned=data.loc[idx]\n",
    "data_cleaned.shape"
   ]
  },
  {
   "cell_type": "code",
   "execution_count": 10,
   "metadata": {},
   "outputs": [],
   "source": [
    "data1=data_cleaned.drop('Total Efficiency BR+BX',axis=1)"
   ]
  },
  {
   "cell_type": "code",
   "execution_count": 11,
   "metadata": {},
   "outputs": [
    {
     "name": "stdout",
     "output_type": "stream",
     "text": [
      "******************** highly corr variable ********************\n"
     ]
    },
    {
     "data": {
      "text/plain": [
       "[('Gross Load', 'Total coal flow  (T/hr)'),\n",
       " ('Gross Load', 'Feed water flow rate'),\n",
       " ('Gross Load', 'Total Air flow'),\n",
       " ('Gross Load', 'Total  Secondary air flow'),\n",
       " ('Gross Load', 'secondary air outlet pressure'),\n",
       " ('Gross Load', 'Hot reheat pressure at IPT Inlet (kg/cm2)'),\n",
       " ('Gross Load', 'Hot reheat pressure at HPT outlet (kg/cm2)'),\n",
       " ('Gross Load', 'MS flow at HPT Inlet (T/hr)'),\n",
       " ('Gross Load', 'Feed water flow rate.1'),\n",
       " ('Gross Load', 'Feed water temp at  Economizer Inlet'),\n",
       " ('Gross Load', 'Feed water pressure at Eco inlet(kg/cm2)'),\n",
       " ('Gross Load', 'Feed water pressure at Eco outlet'),\n",
       " ('Gross Load', 'Primary air temp APH B outlet'),\n",
       " ('Gross Load', 'Flue gas temp APH A inlet'),\n",
       " ('Gross Load', 'Flue gas temp APH B inlet'),\n",
       " ('Gross Load', 'Excess air'),\n",
       " ('Total coal flow  (T/hr)', 'Feed water flow rate'),\n",
       " ('Total coal flow  (T/hr)', 'Total Air flow'),\n",
       " ('Total coal flow  (T/hr)', 'Total  Secondary air flow'),\n",
       " ('Total coal flow  (T/hr)', 'Hot reheat pressure at IPT Inlet (kg/cm2)'),\n",
       " ('Total coal flow  (T/hr)', 'Hot reheat pressure at HPT outlet (kg/cm2)'),\n",
       " ('Total coal flow  (T/hr)', 'MS flow at HPT Inlet (T/hr)'),\n",
       " ('Total coal flow  (T/hr)', 'Feed water flow rate.1'),\n",
       " ('Total coal flow  (T/hr)', 'Feed water temp at  Economizer Inlet'),\n",
       " ('Feed water flow rate', 'Total Air flow'),\n",
       " ('Feed water flow rate', 'Total  Secondary air flow'),\n",
       " ('Feed water flow rate', 'secondary air outlet pressure'),\n",
       " ('Feed water flow rate', 'Hot reheat pressure at IPT Inlet (kg/cm2)'),\n",
       " ('Feed water flow rate', 'Hot reheat pressure at HPT outlet (kg/cm2)'),\n",
       " ('Feed water flow rate', 'MS flow at HPT Inlet (T/hr)'),\n",
       " ('Feed water flow rate', 'Feed water flow rate.1'),\n",
       " ('Feed water flow rate', 'Feed water temp at  Economizer Inlet'),\n",
       " ('Feed water flow rate', 'Feed water pressure at Eco inlet(kg/cm2)'),\n",
       " ('Feed water flow rate', 'Feed water pressure at Eco outlet'),\n",
       " ('Feed water flow rate', 'Flue gas temp APH B inlet'),\n",
       " ('Feed water flow rate', 'Excess air'),\n",
       " ('Total Air flow', 'Total  Secondary air flow'),\n",
       " ('Total Air flow', 'SADC damper position'),\n",
       " ('Total Air flow', 'secondary air outlet pressure'),\n",
       " ('Total Air flow', 'Hot reheat pressure at IPT Inlet (kg/cm2)'),\n",
       " ('Total Air flow', 'Hot reheat pressure at HPT outlet (kg/cm2)'),\n",
       " ('Total Air flow', 'MS flow at HPT Inlet (T/hr)'),\n",
       " ('Total Air flow', 'Feed water flow rate.1'),\n",
       " ('Total Air flow', 'Feed water temp at  Economizer Inlet'),\n",
       " ('Total Air flow', 'Feed water pressure at Eco inlet(kg/cm2)'),\n",
       " ('Total Air flow', 'Feed water pressure at Eco outlet'),\n",
       " ('Total Air flow', 'Primary air temp APH B outlet'),\n",
       " ('Total Air flow', 'Flue gas temp APH A inlet'),\n",
       " ('Total Air flow', 'Flue gas temp APH B inlet'),\n",
       " ('Total  Secondary air flow', 'SADC damper position'),\n",
       " ('Total  Secondary air flow', 'secondary air outlet pressure'),\n",
       " ('Total  Secondary air flow', 'Hot reheat pressure at IPT Inlet (kg/cm2)'),\n",
       " ('Total  Secondary air flow', 'Hot reheat pressure at HPT outlet (kg/cm2)'),\n",
       " ('Total  Secondary air flow', 'MS flow at HPT Inlet (T/hr)'),\n",
       " ('Total  Secondary air flow', 'Feed water flow rate.1'),\n",
       " ('Total  Secondary air flow', 'Feed water temp at  Economizer Inlet'),\n",
       " ('Total  Secondary air flow', 'Feed water pressure at Eco inlet(kg/cm2)'),\n",
       " ('Total  Secondary air flow', 'Feed water pressure at Eco outlet'),\n",
       " ('Total  Secondary air flow', 'Primary air temp APH B outlet'),\n",
       " ('Total  Secondary air flow', 'Flue gas temp APH B inlet'),\n",
       " ('SADC damper position', 'secondary air outlet pressure'),\n",
       " ('secondary air outlet pressure',\n",
       "  'Hot reheat pressure at IPT Inlet (kg/cm2)'),\n",
       " ('secondary air outlet pressure',\n",
       "  'Hot reheat pressure at HPT outlet (kg/cm2)'),\n",
       " ('secondary air outlet pressure', 'MS flow at HPT Inlet (T/hr)'),\n",
       " ('secondary air outlet pressure', 'Feed water flow rate.1'),\n",
       " ('secondary air outlet pressure', 'Feed water temp at  Economizer Inlet'),\n",
       " ('secondary air outlet pressure', 'Feed water pressure at Eco inlet(kg/cm2)'),\n",
       " ('secondary air outlet pressure', 'Feed water pressure at Eco outlet'),\n",
       " ('secondary air temp at windbox', 'Primary air temp APH A outlet'),\n",
       " ('secondary air temp at windbox', 'Primary air temp APH B outlet'),\n",
       " ('secondary air temp at windbox', 'Secondary air temp at APH A outlet'),\n",
       " ('secondary air temp at windbox', 'secondary air temp APH B outlet'),\n",
       " ('secondary air temp at windbox', 'Flue gas temp APH A inlet'),\n",
       " ('secondary air temp at windbox', 'Flue gas temp APH B inlet'),\n",
       " ('Hot reheat pressure at IPT Inlet (kg/cm2)',\n",
       "  'Hot reheat pressure at HPT outlet (kg/cm2)'),\n",
       " ('Hot reheat pressure at IPT Inlet (kg/cm2)', 'MS flow at HPT Inlet (T/hr)'),\n",
       " ('Hot reheat pressure at IPT Inlet (kg/cm2)', 'Feed water flow rate.1'),\n",
       " ('Hot reheat pressure at IPT Inlet (kg/cm2)',\n",
       "  'Feed water temp at  Economizer Inlet'),\n",
       " ('Hot reheat pressure at IPT Inlet (kg/cm2)',\n",
       "  'Feed water pressure at Eco inlet(kg/cm2)'),\n",
       " ('Hot reheat pressure at IPT Inlet (kg/cm2)',\n",
       "  'Feed water pressure at Eco outlet'),\n",
       " ('Hot reheat pressure at IPT Inlet (kg/cm2)',\n",
       "  'Primary air temp APH B outlet'),\n",
       " ('Hot reheat pressure at IPT Inlet (kg/cm2)', 'Flue gas temp APH A inlet'),\n",
       " ('Hot reheat pressure at IPT Inlet (kg/cm2)', 'Flue gas temp APH B inlet'),\n",
       " ('Hot reheat pressure at IPT Inlet (kg/cm2)', 'Excess air'),\n",
       " ('Hot reheat pressure at HPT outlet (kg/cm2)', 'MS flow at HPT Inlet (T/hr)'),\n",
       " ('Hot reheat pressure at HPT outlet (kg/cm2)', 'Feed water flow rate.1'),\n",
       " ('Hot reheat pressure at HPT outlet (kg/cm2)',\n",
       "  'Feed water temp at  Economizer Inlet'),\n",
       " ('Hot reheat pressure at HPT outlet (kg/cm2)',\n",
       "  'Feed water pressure at Eco inlet(kg/cm2)'),\n",
       " ('Hot reheat pressure at HPT outlet (kg/cm2)',\n",
       "  'Feed water pressure at Eco outlet'),\n",
       " ('Hot reheat pressure at HPT outlet (kg/cm2)',\n",
       "  'Primary air temp APH B outlet'),\n",
       " ('Hot reheat pressure at HPT outlet (kg/cm2)', 'Flue gas temp APH A inlet'),\n",
       " ('Hot reheat pressure at HPT outlet (kg/cm2)', 'Flue gas temp APH B inlet'),\n",
       " ('Hot reheat pressure at HPT outlet (kg/cm2)', 'Excess air'),\n",
       " ('MS pressure at HPT Inlet (kg/cm2)', 'Feed water pressure at Eco outlet'),\n",
       " ('MS flow at HPT Inlet (T/hr)', 'Feed water flow rate.1'),\n",
       " ('MS flow at HPT Inlet (T/hr)', 'Feed water temp at  Economizer Inlet'),\n",
       " ('MS flow at HPT Inlet (T/hr)', 'Feed water pressure at Eco inlet(kg/cm2)'),\n",
       " ('MS flow at HPT Inlet (T/hr)', 'Feed water pressure at Eco outlet'),\n",
       " ('MS flow at HPT Inlet (T/hr)', 'Primary air temp APH B outlet'),\n",
       " ('MS flow at HPT Inlet (T/hr)', 'Flue gas temp APH A inlet'),\n",
       " ('MS flow at HPT Inlet (T/hr)', 'Flue gas temp APH B inlet'),\n",
       " ('MS flow at HPT Inlet (T/hr)', 'Excess air'),\n",
       " ('Feed water flow rate.1', 'Feed water temp at  Economizer Inlet'),\n",
       " ('Feed water flow rate.1', 'Feed water pressure at Eco inlet(kg/cm2)'),\n",
       " ('Feed water flow rate.1', 'Feed water pressure at Eco outlet'),\n",
       " ('Feed water flow rate.1', 'Flue gas temp APH B inlet'),\n",
       " ('Feed water flow rate.1', 'Excess air'),\n",
       " ('Feed water temp at  Economizer Inlet',\n",
       "  'Feed water pressure at Eco inlet(kg/cm2)'),\n",
       " ('Feed water temp at  Economizer Inlet', 'Feed water pressure at Eco outlet'),\n",
       " ('Feed water temp at  Economizer Inlet', 'Primary air temp APH A outlet'),\n",
       " ('Feed water temp at  Economizer Inlet', 'Primary air temp APH B outlet'),\n",
       " ('Feed water temp at  Economizer Inlet', 'Flue gas temp APH A inlet'),\n",
       " ('Feed water temp at  Economizer Inlet', 'Flue gas temp APH B inlet'),\n",
       " ('Feed water temp at  Economizer Inlet', 'Excess air'),\n",
       " ('Feed water pressure at Eco inlet(kg/cm2)',\n",
       "  'Feed water pressure at Eco outlet'),\n",
       " ('Feed water pressure at Eco inlet(kg/cm2)', 'Excess air'),\n",
       " ('Feed water pressure at Eco outlet', 'Excess air'),\n",
       " ('Primary air temp APH A inlet', 'Primary air temp APH B inlet'),\n",
       " ('Primary air temp APH A inlet', 'Secondary air temp at APH A inlet'),\n",
       " ('Primary air temp APH A inlet', 'Secondary air temp at APH B inlet'),\n",
       " ('Primary air temp APH A outlet', 'Primary air temp APH B outlet'),\n",
       " ('Primary air temp APH A outlet', 'Secondary air temp at APH A outlet'),\n",
       " ('Primary air temp APH A outlet', 'secondary air temp APH B outlet'),\n",
       " ('Primary air temp APH A outlet', 'Flue gas temp APH A inlet'),\n",
       " ('Primary air temp APH A outlet', 'Flue gas temp APH B inlet'),\n",
       " ('Primary air temp APH B inlet', 'Secondary air temp at APH A inlet'),\n",
       " ('Primary air temp APH B inlet', 'Secondary air temp at APH B inlet'),\n",
       " ('Primary air temp APH B outlet', 'Secondary air temp at APH A outlet'),\n",
       " ('Primary air temp APH B outlet', 'secondary air temp APH B outlet'),\n",
       " ('Primary air temp APH B outlet', 'Flue gas temp APH A inlet'),\n",
       " ('Primary air temp APH B outlet', 'Flue gas temp APH B inlet'),\n",
       " ('Primary air pressure at APH A inlet',\n",
       "  'Primary air pressure at APH B inlet'),\n",
       " ('Primary air pressure at APH A outlet',\n",
       "  'Primary air pressure at APH B outlet'),\n",
       " ('Secondary air temp at APH A inlet', 'Secondary air temp at APH B inlet'),\n",
       " ('Secondary air temp at APH A outlet', 'secondary air temp APH B outlet'),\n",
       " ('Secondary air temp at APH A outlet', 'Flue gas temp APH A inlet'),\n",
       " ('Secondary air temp at APH A outlet', 'Flue gas temp APH B inlet'),\n",
       " ('secondary air temp APH B outlet', 'Flue gas temp APH B inlet'),\n",
       " ('Flue gas temp APH A inlet', 'Flue gas temp APH B inlet')]"
      ]
     },
     "execution_count": 11,
     "metadata": {},
     "output_type": "execute_result"
    }
   ],
   "source": [
    "corr=data1.corr().abs()\n",
    "high_corr =np.where(corr>0.8)\n",
    "high_corr=[(corr.columns[x],corr.columns[y]) for x,y in zip(*high_corr) if x!=y and x<y]\n",
    "print(\"*\"*20,\"highly corr variable\",\"*\"*20)\n",
    "high_corr"
   ]
  },
  {
   "cell_type": "code",
   "execution_count": 12,
   "metadata": {},
   "outputs": [
    {
     "data": {
      "text/plain": [
       "((1836, 45), (1836,))"
      ]
     },
     "execution_count": 12,
     "metadata": {},
     "output_type": "execute_result"
    }
   ],
   "source": [
    "x=data_cleaned.drop('Total Efficiency BR+BX',axis=1)\n",
    "y=data_cleaned['Total Efficiency BR+BX']\n",
    "x.shape,y.shape"
   ]
  },
  {
   "cell_type": "code",
   "execution_count": 13,
   "metadata": {},
   "outputs": [
    {
     "data": {
      "application/javascript": [
       "\n",
       "        if (window._pyforest_update_imports_cell) { window._pyforest_update_imports_cell('from sklearn.model_selection import train_test_split'); }\n",
       "    "
      ],
      "text/plain": [
       "<IPython.core.display.Javascript object>"
      ]
     },
     "metadata": {},
     "output_type": "display_data"
    },
    {
     "name": "stdout",
     "output_type": "stream",
     "text": [
      "(1468, 45) (1468,)\n",
      "(368, 45) (368,)\n"
     ]
    }
   ],
   "source": [
    "# Split into train and test sets # stratify method \n",
    "# change test size to however much you want the proportion to be for test set #\n",
    "X_train, X_test, y_train, y_test = train_test_split(x, y, test_size = 0.2, random_state = 1993)\n",
    "col_names=X_train.columns\n",
    "print(X_train.shape, y_train.shape)\n",
    "print(X_test.shape, y_test.shape)"
   ]
  },
  {
   "cell_type": "code",
   "execution_count": 14,
   "metadata": {},
   "outputs": [],
   "source": [
    "from sklearn.ensemble import RandomForestRegressor\n",
    "regressor = RandomForestRegressor(n_estimators=300, random_state=1993,max_features=40,\n",
    "                                      max_depth = 12,\n",
    "                                      min_samples_leaf=3,n_jobs=-1)\n",
    "regressor.fit(X_train, y_train)\n",
    "y_pred = regressor.predict(X_test)"
   ]
  },
  {
   "cell_type": "code",
   "execution_count": 15,
   "metadata": {},
   "outputs": [
    {
     "name": "stdout",
     "output_type": "stream",
     "text": [
      "Mean Absolute Error (MAE): 0.9610193374097042\n",
      "Mean Squared Error (MSE): 1.839026479341928\n",
      "Root Mean Squared Error (RMSE): 1.3561071046720197\n",
      "Mean Absolute Percentage Error (MAPE): 1.25\n",
      "Accuracy: 98.75\n"
     ]
    }
   ],
   "source": [
    "import numpy as np\n",
    "from sklearn import metrics\n",
    "\n",
    "print('Mean Absolute Error (MAE):', metrics.mean_absolute_error(y_test, y_pred))\n",
    "print('Mean Squared Error (MSE):', metrics.mean_squared_error(y_test, y_pred))\n",
    "print('Root Mean Squared Error (RMSE):', np.sqrt(metrics.mean_squared_error(y_test, y_pred)))\n",
    "mape = np.mean(np.abs((y_test - y_pred) / np.abs(y_test)))\n",
    "print('Mean Absolute Percentage Error (MAPE):', round(mape * 100, 2))\n",
    "print('Accuracy:', round(100*(1 - mape), 2))"
   ]
  },
  {
   "cell_type": "code",
   "execution_count": 16,
   "metadata": {},
   "outputs": [
    {
     "data": {
      "text/plain": [
       "0.9540145996116427"
      ]
     },
     "execution_count": 16,
     "metadata": {},
     "output_type": "execute_result"
    }
   ],
   "source": [
    "from sklearn.metrics import accuracy_score,r2_score\n",
    "r2_score=r2_score(y_test,y_pred)\n",
    "r2_score"
   ]
  },
  {
   "cell_type": "code",
   "execution_count": 17,
   "metadata": {
    "scrolled": true
   },
   "outputs": [
    {
     "data": {
      "text/plain": [
       "<matplotlib.axes._subplots.AxesSubplot at 0xcec27f0>"
      ]
     },
     "execution_count": 17,
     "metadata": {},
     "output_type": "execute_result"
    },
    {
     "data": {
      "image/png": "[encoded data removed]",
      "text/plain": [
       "<Figure size 1296x1152 with 1 Axes>"
      ]
     },
     "metadata": {
      "needs_background": "light"
     },
     "output_type": "display_data"
    }
   ],
   "source": [
    "############################### VarImp Plot #################################\n",
    "import matplotlib.pyplot as plt\n",
    "%matplotlib inline\n",
    "plt.figure(figsize=(18,16))\n",
    "feat_importance = pd.Series(regressor.feature_importances_, index = x.columns).sort_values(ascending=True)\n",
    "feat_importance.nlargest(30).sort_values(ascending=True).plot(kind = 'barh',color=\"blue\")"
   ]
  },
  {
   "cell_type": "code",
   "execution_count": 18,
   "metadata": {},
   "outputs": [],
   "source": [
    "feat_importance1=feat_importance"
   ]
  },
  {
   "cell_type": "code",
   "execution_count": 19,
   "metadata": {
    "scrolled": true
   },
   "outputs": [
    {
     "name": "stdout",
     "output_type": "stream",
     "text": [
      "                                          name    values   sum_val\n",
      "44                     Total coal flow  (T/hr)  0.511712  0.511712\n",
      "43            Unburnt carbon in Bottom Ash (%)  0.087387  0.599099\n",
      "42             Calorific value of fuel (kJ/kg)  0.085474  0.684573\n",
      "41                 MS flow at HPT Inlet (T/hr)  0.072057  0.756630\n",
      "40                                  Gross Load  0.053182  0.809812\n",
      "39                        SADC damper position  0.028032  0.837844\n",
      "38           Feed water pressure at Eco outlet  0.021567  0.859410\n",
      "37  Hot reheat pressure at HPT outlet (kg/cm2)  0.017114  0.876524\n",
      "36        Feed water temp at  Economizer Inlet  0.010450  0.886974\n",
      "35    Feed water pressure at Eco inlet(kg/cm2)  0.008909  0.895883\n",
      "34           MS pressure at HPT Inlet (kg/cm2)  0.008658  0.904542\n",
      "33   Hot reheat pressure at IPT Inlet (kg/cm2)  0.007866  0.912408\n",
      "32         Primary air pressure at APH A inlet  0.007505  0.919913\n",
      "31                                  Excess air  0.006861  0.926775\n",
      "30                      Feed water flow rate.1  0.006286  0.933061\n",
      "29                        Feed water flow rate  0.005576  0.938637\n",
      "28                               Total PA flow  0.005117  0.943754\n",
      "27               Feed water temp at Eco outlet  0.005018  0.948772\n",
      "26         Primary air pressure at APH B inlet  0.004221  0.952993\n",
      "25                   Total  Secondary air flow  0.004042  0.957034\n",
      "24                       PA temp at mill inlet  0.002886  0.959920\n",
      "23               Primary air temp APH B outlet  0.002830  0.962750\n",
      "22                              Total Air flow  0.002773  0.965523\n",
      "21                     Super heater spray flow  0.002653  0.968176\n",
      "20                    Reheat spray flow (T/hr)  0.002504  0.970680\n",
      "19               Windbox Differential Pressure  0.002482  0.973161\n",
      "18                   Flue gas temp APH A inlet  0.002275  0.975437\n",
      "17                       MS temp at HPT Inlet   0.002162  0.977599\n",
      "16               secondary air outlet pressure  0.001952  0.979550\n",
      "15                            Furnace Pressure  0.001844  0.981395\n",
      "14               Hot reheat temp at HPT outlet  0.001747  0.983142\n",
      "13                   Flue gas temp APH B inlet  0.001715  0.984857\n",
      "12                Hot reheat temp at IPT Inlet  0.001704  0.986561\n",
      "11                  Flue gas temp APH A outlet  0.001631  0.988192\n",
      "10               Primary air temp APH A outlet  0.001579  0.989771\n",
      "9                secondary air temp at windbox  0.001232  0.991003\n",
      "8                   Flue gas temp APH B outlet  0.001215  0.992218\n",
      "7         Primary air pressure at APH A outlet  0.001165  0.993383\n",
      "6            Secondary air temp at APH B inlet  0.001149  0.994532\n",
      "5              secondary air temp APH B outlet  0.001114  0.995646\n",
      "4           Secondary air temp at APH A outlet  0.000976  0.996622\n",
      "3         Primary air pressure at APH B outlet  0.000896  0.997518\n",
      "2                 Primary air temp APH B inlet  0.000871  0.998388\n",
      "1                 Primary air temp APH A inlet  0.000854  0.999242\n",
      "0            Secondary air temp at APH A inlet  0.000758  1.000000\n"
     ]
    }
   ],
   "source": [
    "# To filter the columns\n",
    "feat_importance1=pd.DataFrame(feat_importance1,columns=[\"values\"]).reset_index()\n",
    "feat_importance1.columns=[\"name\",\"values\"]\n",
    "feat_importance1=feat_importance1.sort_values(\"values\",ascending=False)\n",
    "feat_importance1[\"sum_val\"]=feat_importance1[\"values\"].cumsum()\n",
    "print(feat_importance1)\n",
    "# feat_importance.loc[feat_importance.sum_val<0.99,\"name\"].tolist()"
   ]
  },
  {
   "cell_type": "markdown",
   "metadata": {},
   "source": [
    "# Scaling the features"
   ]
  },
  {
   "cell_type": "code",
   "execution_count": 20,
   "metadata": {},
   "outputs": [],
   "source": [
    "from sklearn.preprocessing import StandardScaler\n",
    "scaler = StandardScaler().fit(X_train)\n",
    "X_train_scaled = pd.DataFrame(scaler.transform(X_train), index=X_train.index.values, columns=X_train.columns.values)\n",
    "X_test_scaled = pd.DataFrame(scaler.transform(X_test), index=X_test.index.values, columns=X_test.columns.values)"
   ]
  },
  {
   "cell_type": "code",
   "execution_count": 21,
   "metadata": {},
   "outputs": [],
   "source": [
    "from sklearn.ensemble import RandomForestRegressor\n",
    "regressor = RandomForestRegressor(n_estimators=300, random_state=1993,max_features=40,\n",
    "                                      max_depth = 12,\n",
    "                                      min_samples_leaf=3,n_jobs=-1)\n",
    "regressor.fit(X_train_scaled, y_train)\n",
    "y_pred = regressor.predict(X_test_scaled)"
   ]
  },
  {
   "cell_type": "code",
   "execution_count": 22,
   "metadata": {},
   "outputs": [
    {
     "name": "stdout",
     "output_type": "stream",
     "text": [
      "Mean Absolute Error (MAE): 0.9610113948812975\n",
      "Mean Squared Error (MSE): 1.8389769166155385\n",
      "Root Mean Squared Error (RMSE): 1.3560888306506835\n",
      "Mean Absolute Percentage Error (MAPE): 1.25\n",
      "Accuracy: 98.75\n"
     ]
    }
   ],
   "source": [
    "import numpy as np\n",
    "from sklearn import metrics\n",
    "\n",
    "print('Mean Absolute Error (MAE):', metrics.mean_absolute_error(y_test, y_pred))\n",
    "print('Mean Squared Error (MSE):', metrics.mean_squared_error(y_test, y_pred))\n",
    "print('Root Mean Squared Error (RMSE):', np.sqrt(metrics.mean_squared_error(y_test, y_pred)))\n",
    "mape = np.mean(np.abs((y_test - y_pred) / np.abs(y_test)))\n",
    "print('Mean Absolute Percentage Error (MAPE):', round(mape * 100, 2))\n",
    "print('Accuracy:', round(100*(1 - mape), 2))"
   ]
  },
  {
   "cell_type": "code",
   "execution_count": 23,
   "metadata": {},
   "outputs": [
    {
     "data": {
      "text/plain": [
       "0.9540158389422576"
      ]
     },
     "execution_count": 23,
     "metadata": {},
     "output_type": "execute_result"
    }
   ],
   "source": [
    "from sklearn.metrics import accuracy_score,r2_score\n",
    "r2_score=r2_score(y_test,y_pred)\n",
    "r2_score"
   ]
  },
  {
   "cell_type": "code",
   "execution_count": 24,
   "metadata": {
    "scrolled": true
   },
   "outputs": [
    {
     "data": {
      "text/plain": [
       "<matplotlib.axes._subplots.AxesSubplot at 0xcc56be0>"
      ]
     },
     "execution_count": 24,
     "metadata": {},
     "output_type": "execute_result"
    },
    {
     "data": {
      "image/png": "[encoded data removed]",
      "text/plain": [
       "<Figure size 1296x1152 with 1 Axes>"
      ]
     },
     "metadata": {
      "needs_background": "light"
     },
     "output_type": "display_data"
    }
   ],
   "source": [
    "############################### VarImp Plot #################################\n",
    "import matplotlib.pyplot as plt\n",
    "%matplotlib inline\n",
    "plt.figure(figsize=(18,16))\n",
    "feat_importance = pd.Series(regressor.feature_importances_, index = x.columns).sort_values(ascending=True)\n",
    "feat_importance.nlargest(30).sort_values(ascending=True).plot(kind = 'barh',color=\"blue\")"
   ]
  }
 ],
 "metadata": {
  "kernelspec": {
   "display_name": "Python 3",
   "language": "python",
   "name": "python3"
  },
  "language_info": {
   "codemirror_mode": {
    "name": "ipython",
    "version": 3
   },
   "file_extension": ".py",
   "mimetype": "text/x-python",
   "name": "python",
   "nbconvert_exporter": "python",
   "pygments_lexer": "ipython3",
   "version": "3.7.1"
  }
 },
 "nbformat": 4,
 "nbformat_minor": 4
}
